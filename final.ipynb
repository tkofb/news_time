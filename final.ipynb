{
 "cells": [
  {
   "cell_type": "markdown",
   "id": "26632d84-cca6-4f4d-afb0-45f353b7365a",
   "metadata": {},
   "source": [
    "# Effects of Employment Rate on The US Dollar\n",
    "---"
   ]
  },
  {
   "cell_type": "markdown",
   "id": "35fe973e-e802-41a2-989f-54adcdb3352f",
   "metadata": {},
   "source": [
    "**For this study we wish to analyze how the US employment rate seems to affect the US dollar**\n"
   ]
  },
  {
   "cell_type": "markdown",
   "id": "9d9e8e3c-3314-47a4-98fc-c7a268ac1b9d",
   "metadata": {},
   "source": [
    "## Background Knowledge\n",
    "\n",
    "### What is Forex?\n",
    "***Definition*** **:**  Forex (FX) refers to the global electronic marketplace for trading international currencies and currency derivatives. It has no central physical location, yet the forex market is the largest, most liquid market in the world by trading volume, with trillions of dollars changing hands every day. Most of the trading is done through banks, brokers, and financial institutions. \n",
    "\n",
    "This is the same market that the US Dollar is traded on with institutions buying and selling the currency that they believe is going to increase in price.\n",
    "\n",
    "### How Pairs Are Organized\n",
    "For currency pairs it is necessary to buy a currency in reference to another currency. There is a standardized way that they are organized to know which currency you are expecting to rise or fall. For example let us reference the currency pair USD/JPY. In these cases the first currency listed (USD) is considered the base currency and the second currency (JPY) is considered the quote currency\n",
    "\n",
    "### What do Base and Quote Currencies Even Mean?\n",
    "What you are analyzing when you look at a price in reference to base and quote currencies is essentially what the base currency is worth in context to the quote currency. In other words how much of the quote currency will you receive for one unit of the base currency. With in the case of USD/JPY which currently has a value of 151.36. This means that for 1 US Dollar you will receive 151.36 Japanese Yen.\n",
    "\n",
    "### How to Determine the Weakness and Strength of a Currency?\n",
    "With this in hand we are able to understand that when a base currency has a strong economy then it will be worth more in the quote currency, and the opposite being true in when the economy of the base currency is weak it will be worth less in the quote currency.\n",
    "\n",
    "### How to Make Profit?\n",
    "Using this forex traders are able to make profits on the rise and fall of a currency. Where if you believe that the currency is going to fall in reference to the quote currency you buy alot of the quote currency and when it reaches your profit point you buy the base currency back with the quote currency you bought initially. And vice versa if you believe it is going to rise you buy alot of the base currency and when it is worth more in the quote currency then you exchange it for a profit.\n",
    "\n",
    "### Now What Is This Study About?\n",
    "This study is to find out whether or not we can use fundamental analysis (formal analysis technique that takes into consideration variables such as news, interest rates, etc.) in the form of analyzing unemployment rates to determine whether or not to buy a currency. The goal is to potentially find a correlation between employment rate and prices which will help us make the most profit.\n"
   ]
  },
  {
   "cell_type": "markdown",
   "id": "05f9d372-53f3-418e-ae1e-b0c841be1ca7",
   "metadata": {},
   "source": [
    "## Part 1: Import Essential Libraries"
   ]
  },
  {
   "cell_type": "code",
   "execution_count": 1,
   "id": "cb88208a-17bd-494a-a4aa-48ebd7aea154",
   "metadata": {},
   "outputs": [],
   "source": [
    "import pandas as pd\n",
    "import numpy as np\n",
    "from datetime import datetime\n",
    "import re"
   ]
  },
  {
   "cell_type": "markdown",
   "id": "d58b3fde-1b67-423a-b103-baa94e9d9345",
   "metadata": {},
   "source": [
    "## Part 2: Import Datasets"
   ]
  },
  {
   "cell_type": "markdown",
   "id": "43fe25fd-a440-47fb-b554-04bd5b8b6302",
   "metadata": {},
   "source": [
    "**TASK 2.1:** First we want to import all the necessary forex pairs"
   ]
  },
  {
   "cell_type": "code",
   "execution_count": 13,
   "id": "eb9b7e8c-3fa3-4254-a45d-50f9fdff2d36",
   "metadata": {},
   "outputs": [],
   "source": [
    "audusd_df = pd.read_csv('forexPairs/audusd.csv')\n",
    "eurusd_df = pd.read_csv('forexPairs/eurusd.csv')\n",
    "gbpusd_df = pd.read_csv('forexPairs/gbpusd.csv')\n",
    "usdchf_df = pd.read_csv('forexPairs/usdchf.csv')\n",
    "usdjpy_df = pd.read_csv('forexPairs/usdjpy.csv')"
   ]
  },
  {
   "cell_type": "markdown",
   "id": "d50380b6-de08-45f6-ac5c-7783cf7359d4",
   "metadata": {},
   "source": [
    "**TASK 2.2:** Next we want to import datasets about the relevant unemployment news."
   ]
  },
  {
   "cell_type": "code",
   "execution_count": 12,
   "id": "7ef8277e-5be6-4c93-814e-a347daba6f03",
   "metadata": {},
   "outputs": [],
   "source": [
    "unemployment_df = pd.read_csv('news/unemployment.csv')\n",
    "news_df = pd.read_csv('news/important_news.csv')"
   ]
  }
 ],
 "metadata": {
  "kernelspec": {
   "display_name": "Python 3 (ipykernel)",
   "language": "python",
   "name": "python3"
  },
  "language_info": {
   "codemirror_mode": {
    "name": "ipython",
    "version": 3
   },
   "file_extension": ".py",
   "mimetype": "text/x-python",
   "name": "python",
   "nbconvert_exporter": "python",
   "pygments_lexer": "ipython3",
   "version": "3.11.8"
  }
 },
 "nbformat": 4,
 "nbformat_minor": 5
}
